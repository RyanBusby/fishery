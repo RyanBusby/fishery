{
 "cells": [
  {
   "cell_type": "markdown",
   "metadata": {},
   "source": [
    "Train a convolutional neural network with processed image data"
   ]
  },
  {
   "cell_type": "code",
   "execution_count": 1,
   "metadata": {
    "collapsed": false
   },
   "outputs": [
    {
     "name": "stderr",
     "output_type": "stream",
     "text": [
      "Using TensorFlow backend.\n"
     ]
    },
    {
     "name": "stdout",
     "output_type": "stream",
     "text": [
      "Train on 2293 samples, validate on 765 samples\n",
      "Epoch 1/31\n",
      "2293/2293 [==============================] - 109s - loss: 1.7607 - acc: 0.3537 - val_loss: 1.7267 - val_acc: 0.3948\n",
      "Epoch 2/31\n",
      "2293/2293 [==============================] - 97s - loss: 1.6295 - acc: 0.4156 - val_loss: 1.5972 - val_acc: 0.4340\n",
      "Epoch 3/31\n",
      "2293/2293 [==============================] - 97s - loss: 1.4486 - acc: 0.4889 - val_loss: 1.3631 - val_acc: 0.5412\n",
      "Epoch 4/31\n",
      "2293/2293 [==============================] - 97s - loss: 1.1906 - acc: 0.6005 - val_loss: 1.1082 - val_acc: 0.6248\n",
      "Epoch 5/31\n",
      "2293/2293 [==============================] - 97s - loss: 0.9644 - acc: 0.6891 - val_loss: 0.9607 - val_acc: 0.7033\n",
      "Epoch 6/31\n",
      "2293/2293 [==============================] - 97s - loss: 0.7889 - acc: 0.7497 - val_loss: 0.8412 - val_acc: 0.7124\n",
      "Epoch 7/31\n",
      "2293/2293 [==============================] - 97s - loss: 0.6513 - acc: 0.7976 - val_loss: 0.7051 - val_acc: 0.7856\n",
      "Epoch 8/31\n",
      "2293/2293 [==============================] - 97s - loss: 0.5447 - acc: 0.8290 - val_loss: 0.6345 - val_acc: 0.8105\n",
      "Epoch 9/31\n",
      "2293/2293 [==============================] - 97s - loss: 0.4636 - acc: 0.8517 - val_loss: 0.6449 - val_acc: 0.7948\n",
      "Epoch 10/31\n",
      "2293/2293 [==============================] - 97s - loss: 0.3937 - acc: 0.8779 - val_loss: 0.5706 - val_acc: 0.8340\n",
      "Epoch 11/31\n",
      "2293/2293 [==============================] - 97s - loss: 0.3442 - acc: 0.8945 - val_loss: 0.5745 - val_acc: 0.8196\n",
      "Epoch 12/31\n",
      "2293/2293 [==============================] - 97s - loss: 0.2842 - acc: 0.9075 - val_loss: 0.5179 - val_acc: 0.8575\n",
      "Epoch 13/31\n",
      "2293/2293 [==============================] - 97s - loss: 0.2391 - acc: 0.9237 - val_loss: 0.4720 - val_acc: 0.8667\n",
      "Epoch 14/31\n",
      "2293/2293 [==============================] - 97s - loss: 0.1975 - acc: 0.9324 - val_loss: 0.5018 - val_acc: 0.8771\n",
      "Epoch 15/31\n",
      "2293/2293 [==============================] - 97s - loss: 0.1669 - acc: 0.9442 - val_loss: 0.4582 - val_acc: 0.8928\n",
      "Epoch 16/31\n",
      "2293/2293 [==============================] - 97s - loss: 0.1310 - acc: 0.9590 - val_loss: 0.4093 - val_acc: 0.9046\n",
      "Epoch 17/31\n",
      "2293/2293 [==============================] - 97s - loss: 0.1096 - acc: 0.9682 - val_loss: 0.4835 - val_acc: 0.8915\n",
      "Epoch 18/31\n",
      "2293/2293 [==============================] - 97s - loss: 0.0863 - acc: 0.9751 - val_loss: 0.4448 - val_acc: 0.9111\n",
      "Epoch 19/31\n",
      "2293/2293 [==============================] - 97s - loss: 0.0643 - acc: 0.9821 - val_loss: 0.4134 - val_acc: 0.9150\n",
      "Epoch 20/31\n",
      "2293/2293 [==============================] - 97s - loss: 0.0630 - acc: 0.9826 - val_loss: 0.4213 - val_acc: 0.9203\n",
      "Epoch 21/31\n",
      "2293/2293 [==============================] - 97s - loss: 0.0526 - acc: 0.9834 - val_loss: 0.4227 - val_acc: 0.9190\n",
      "Epoch 22/31\n",
      "2293/2293 [==============================] - 97s - loss: 0.0402 - acc: 0.9865 - val_loss: 0.4432 - val_acc: 0.9255\n",
      "Epoch 23/31\n",
      "2293/2293 [==============================] - 97s - loss: 0.0395 - acc: 0.9891 - val_loss: 0.4520 - val_acc: 0.9216\n",
      "Epoch 24/31\n",
      "2293/2293 [==============================] - 97s - loss: 0.0310 - acc: 0.9922 - val_loss: 0.4112 - val_acc: 0.9242\n",
      "Epoch 25/31\n",
      "2293/2293 [==============================] - 97s - loss: 0.0250 - acc: 0.9930 - val_loss: 0.4205 - val_acc: 0.9229\n",
      "Epoch 26/31\n",
      "2293/2293 [==============================] - 97s - loss: 0.0263 - acc: 0.9930 - val_loss: 0.4219 - val_acc: 0.9333\n",
      "Epoch 27/31\n",
      "2293/2293 [==============================] - 97s - loss: 0.0223 - acc: 0.9922 - val_loss: 0.4423 - val_acc: 0.9163\n",
      "Epoch 28/31\n",
      "2293/2293 [==============================] - 97s - loss: 0.0219 - acc: 0.9952 - val_loss: 0.4068 - val_acc: 0.9268\n",
      "Epoch 29/31\n",
      "2293/2293 [==============================] - 97s - loss: 0.0222 - acc: 0.9930 - val_loss: 0.4455 - val_acc: 0.9216\n",
      "Epoch 30/31\n",
      "2293/2293 [==============================] - 97s - loss: 0.0142 - acc: 0.9956 - val_loss: 0.4100 - val_acc: 0.9346\n",
      "Epoch 31/31\n",
      "2293/2293 [==============================] - 97s - loss: 0.0132 - acc: 0.9961 - val_loss: 0.3937 - val_acc: 0.9386\n",
      "Test accuracy: 0.938562090101\n"
     ]
    }
   ],
   "source": [
    "run conv_net.py"
   ]
  },
  {
   "cell_type": "code",
   "execution_count": null,
   "metadata": {
    "collapsed": true
   },
   "outputs": [],
   "source": []
  }
 ],
 "metadata": {
  "anaconda-cloud": {},
  "kernelspec": {
   "display_name": "Python [conda root]",
   "language": "python",
   "name": "conda-root-py"
  },
  "language_info": {
   "codemirror_mode": {
    "name": "ipython",
    "version": 2
   },
   "file_extension": ".py",
   "mimetype": "text/x-python",
   "name": "python",
   "nbconvert_exporter": "python",
   "pygments_lexer": "ipython2",
   "version": "2.7.12"
  }
 },
 "nbformat": 4,
 "nbformat_minor": 1
}
