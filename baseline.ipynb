{
 "cells": [
  {
   "cell_type": "markdown",
   "metadata": {},
   "source": [
    "baseline model. lr = .00008 , filters = 36 / 72"
   ]
  },
  {
   "cell_type": "code",
   "execution_count": 1,
   "metadata": {
    "collapsed": false,
    "scrolled": false
   },
   "outputs": [
    {
     "name": "stderr",
     "output_type": "stream",
     "text": [
      "Using TensorFlow backend.\n"
     ]
    },
    {
     "name": "stdout",
     "output_type": "stream",
     "text": [
      "Train on 2293 samples, validate on 765 samples\n",
      "Epoch 1/31\n",
      "2293/2293 [==============================] - 109s - loss: 1.7641 - acc: 0.3489 - val_loss: 1.7352 - val_acc: 0.3935\n",
      "Epoch 2/31\n",
      "2293/2293 [==============================] - 97s - loss: 1.6470 - acc: 0.4130 - val_loss: 1.6243 - val_acc: 0.4157\n",
      "Epoch 3/31\n",
      "2293/2293 [==============================] - 97s - loss: 1.5091 - acc: 0.4653 - val_loss: 1.4567 - val_acc: 0.4876\n",
      "Epoch 4/31\n",
      "2293/2293 [==============================] - 97s - loss: 1.3204 - acc: 0.5408 - val_loss: 1.2663 - val_acc: 0.5386\n",
      "Epoch 5/31\n",
      "2293/2293 [==============================] - 97s - loss: 1.1454 - acc: 0.6175 - val_loss: 1.1429 - val_acc: 0.6222\n",
      "Epoch 6/31\n",
      "2293/2293 [==============================] - 97s - loss: 1.0073 - acc: 0.6659 - val_loss: 1.0453 - val_acc: 0.6183\n",
      "Epoch 7/31\n",
      "2293/2293 [==============================] - 97s - loss: 0.8925 - acc: 0.7065 - val_loss: 0.9428 - val_acc: 0.6876\n",
      "Epoch 8/31\n",
      "2293/2293 [==============================] - 97s - loss: 0.7906 - acc: 0.7466 - val_loss: 0.8646 - val_acc: 0.7386\n",
      "Epoch 9/31\n",
      "2293/2293 [==============================] - 97s - loss: 0.6971 - acc: 0.7785 - val_loss: 0.8375 - val_acc: 0.7307\n",
      "Epoch 10/31\n",
      "2293/2293 [==============================] - 97s - loss: 0.6253 - acc: 0.7950 - val_loss: 0.7676 - val_acc: 0.7660\n",
      "Epoch 11/31\n",
      "2293/2293 [==============================] - 97s - loss: 0.5635 - acc: 0.8238 - val_loss: 0.7507 - val_acc: 0.7477\n",
      "Epoch 12/31\n",
      "2293/2293 [==============================] - 97s - loss: 0.4909 - acc: 0.8373 - val_loss: 0.6621 - val_acc: 0.8078\n",
      "Epoch 13/31\n",
      "2293/2293 [==============================] - 97s - loss: 0.4400 - acc: 0.8530 - val_loss: 0.6001 - val_acc: 0.8288\n",
      "Epoch 14/31\n",
      "2293/2293 [==============================] - 97s - loss: 0.3929 - acc: 0.8670 - val_loss: 0.5766 - val_acc: 0.8405\n",
      "Epoch 15/31\n",
      "2293/2293 [==============================] - 97s - loss: 0.3450 - acc: 0.8862 - val_loss: 0.5538 - val_acc: 0.8471\n",
      "Epoch 16/31\n",
      "2293/2293 [==============================] - 97s - loss: 0.2933 - acc: 0.9023 - val_loss: 0.4777 - val_acc: 0.8627\n",
      "Epoch 17/31\n",
      "2293/2293 [==============================] - 97s - loss: 0.2567 - acc: 0.9141 - val_loss: 0.5115 - val_acc: 0.8510\n",
      "Epoch 18/31\n",
      "2293/2293 [==============================] - 97s - loss: 0.2140 - acc: 0.9302 - val_loss: 0.4599 - val_acc: 0.8850\n",
      "Epoch 19/31\n",
      "2293/2293 [==============================] - 97s - loss: 0.1804 - acc: 0.9385 - val_loss: 0.4336 - val_acc: 0.8941\n",
      "Epoch 20/31\n",
      "2293/2293 [==============================] - 97s - loss: 0.1616 - acc: 0.9451 - val_loss: 0.4009 - val_acc: 0.9046\n",
      "Epoch 21/31\n",
      "2293/2293 [==============================] - 97s - loss: 0.1492 - acc: 0.9494 - val_loss: 0.4107 - val_acc: 0.8928\n",
      "Epoch 22/31\n",
      "2293/2293 [==============================] - 97s - loss: 0.1195 - acc: 0.9603 - val_loss: 0.4627 - val_acc: 0.8928\n",
      "Epoch 23/31\n",
      "2293/2293 [==============================] - 97s - loss: 0.0984 - acc: 0.9686 - val_loss: 0.4017 - val_acc: 0.9150\n",
      "Epoch 24/31\n",
      "2293/2293 [==============================] - 97s - loss: 0.0865 - acc: 0.9721 - val_loss: 0.3968 - val_acc: 0.9111\n",
      "Epoch 25/31\n",
      "2293/2293 [==============================] - 97s - loss: 0.0732 - acc: 0.9773 - val_loss: 0.3840 - val_acc: 0.9111\n",
      "Epoch 26/31\n",
      "2293/2293 [==============================] - 97s - loss: 0.0775 - acc: 0.9769 - val_loss: 0.3901 - val_acc: 0.9216\n",
      "Epoch 27/31\n",
      "2293/2293 [==============================] - 97s - loss: 0.0566 - acc: 0.9826 - val_loss: 0.3934 - val_acc: 0.9176\n",
      "Epoch 28/31\n",
      "2293/2293 [==============================] - 97s - loss: 0.0517 - acc: 0.9821 - val_loss: 0.3982 - val_acc: 0.9163\n",
      "Epoch 29/31\n",
      "2293/2293 [==============================] - 97s - loss: 0.0491 - acc: 0.9869 - val_loss: 0.3880 - val_acc: 0.9203\n",
      "Epoch 30/31\n",
      "2293/2293 [==============================] - 97s - loss: 0.0380 - acc: 0.9904 - val_loss: 0.4046 - val_acc: 0.9216\n",
      "Epoch 31/31\n",
      "2293/2293 [==============================] - 97s - loss: 0.0385 - acc: 0.9882 - val_loss: 0.3938 - val_acc: 0.9255\n",
      "Test accuracy: 0.925490194676\n"
     ]
    }
   ],
   "source": [
    "run conv_net.py"
   ]
  },
  {
   "cell_type": "code",
   "execution_count": null,
   "metadata": {
    "collapsed": true
   },
   "outputs": [],
   "source": []
  }
 ],
 "metadata": {
  "anaconda-cloud": {},
  "kernelspec": {
   "display_name": "Python [conda root]",
   "language": "python",
   "name": "conda-root-py"
  },
  "language_info": {
   "codemirror_mode": {
    "name": "ipython",
    "version": 2
   },
   "file_extension": ".py",
   "mimetype": "text/x-python",
   "name": "python",
   "nbconvert_exporter": "python",
   "pygments_lexer": "ipython2",
   "version": "2.7.12"
  }
 },
 "nbformat": 4,
 "nbformat_minor": 1
}
